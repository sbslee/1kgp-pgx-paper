{
 "cells": [
  {
   "cell_type": "markdown",
   "metadata": {},
   "source": [
    "Below code will generate SV table for each gene."
   ]
  },
  {
   "cell_type": "code",
   "execution_count": 10,
   "metadata": {},
   "outputs": [],
   "source": [
    "import pandas as pd\n",
    "from fuc import common\n",
    "\n",
    "sv_genes = common.convert_file2list('data/sv-genes.list')\n",
    "df = pd.read_csv('data/combined.csv')\n",
    "\n",
    "sv_df = df[df.Gene.isin(sv_genes)]\n",
    "sv_df = sv_df.pivot(index='Sample', columns='Gene', values='CNV')\n",
    "\n",
    "mappings = {x+1: f'0{x+1}' if x < 9 else str(x+1) for x in range(10)}\n",
    "batch_df = df[df.Gene == 'ABCB1'][['Sample', 'Batch']]\n",
    "batch_df.Batch = batch_df.Batch.replace(mappings)\n",
    "batch_dict = dict(zip(batch_df.Sample, batch_df.Batch))\n",
    "\n",
    "base = 'https://raw.githubusercontent.com/sbslee/1kgp-pgx-paper/main/plot'\n",
    "\n",
    "def one_sv(x, sample, batch):\n",
    "    sv, gene = x.split(',')\n",
    "    return f'[{sv}]({base}/{gene}/{batch}/{sample}_NYGC.png)'\n",
    "\n",
    "def one_row(r):\n",
    "    genes = r.index.to_series()\n",
    "    r = r.str.cat(genes, sep=',')\n",
    "    batch = batch_dict[r.name]\n",
    "    r = r.apply(one_sv, args=(r.name, batch))\n",
    "    return r\n",
    "    \n",
    "sv_df = sv_df.apply(one_row, axis=1)\n",
    "\n",
    "for gene in sv_genes:\n",
    "    with open(f'sv-tables/{gene}.md', 'w') as f:\n",
    "        f.write(sv_df[gene].to_markdown(tablefmt='github'))"
   ]
  },
  {
   "cell_type": "code",
   "execution_count": null,
   "metadata": {},
   "outputs": [],
   "source": []
  }
 ],
 "metadata": {
  "kernelspec": {
   "display_name": "Python 3",
   "language": "python",
   "name": "python3"
  },
  "language_info": {
   "codemirror_mode": {
    "name": "ipython",
    "version": 3
   },
   "file_extension": ".py",
   "mimetype": "text/x-python",
   "name": "python",
   "nbconvert_exporter": "python",
   "pygments_lexer": "ipython3",
   "version": "3.9.12"
  }
 },
 "nbformat": 4,
 "nbformat_minor": 4
}
