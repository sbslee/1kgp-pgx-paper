{
 "cells": [
  {
   "cell_type": "code",
   "execution_count": 9,
   "metadata": {},
   "outputs": [
    {
     "ename": "KeyboardInterrupt",
     "evalue": "",
     "output_type": "error",
     "traceback": [
      "\u001b[0;31m---------------------------------------------------------------------------\u001b[0m",
      "\u001b[0;31mKeyboardInterrupt\u001b[0m                         Traceback (most recent call last)",
      "Input \u001b[0;32mIn [9]\u001b[0m, in \u001b[0;36m<cell line: 30>\u001b[0;34m()\u001b[0m\n\u001b[1;32m     30\u001b[0m \u001b[38;5;28;01mfor\u001b[39;00m gene \u001b[38;5;129;01min\u001b[39;00m sv_genes:\n\u001b[1;32m     31\u001b[0m     \u001b[38;5;28;01mwith\u001b[39;00m \u001b[38;5;28mopen\u001b[39m(\u001b[38;5;124mf\u001b[39m\u001b[38;5;124m'\u001b[39m\u001b[38;5;132;01m{\u001b[39;00mgene\u001b[38;5;132;01m}\u001b[39;00m\u001b[38;5;124m.md\u001b[39m\u001b[38;5;124m'\u001b[39m, \u001b[38;5;124m'\u001b[39m\u001b[38;5;124mw\u001b[39m\u001b[38;5;124m'\u001b[39m) \u001b[38;5;28;01mas\u001b[39;00m f:\n\u001b[0;32m---> 32\u001b[0m         f\u001b[38;5;241m.\u001b[39mwrite(\u001b[43msv_df\u001b[49m\u001b[43m[\u001b[49m\u001b[43mgene\u001b[49m\u001b[43m]\u001b[49m\u001b[38;5;241;43m.\u001b[39;49m\u001b[43mto_markdown\u001b[49m\u001b[43m(\u001b[49m\u001b[43mtablefmt\u001b[49m\u001b[38;5;241;43m=\u001b[39;49m\u001b[38;5;124;43m'\u001b[39;49m\u001b[38;5;124;43mgithub\u001b[39;49m\u001b[38;5;124;43m'\u001b[39;49m\u001b[43m)\u001b[49m)\n",
      "File \u001b[0;32m~/opt/anaconda3/envs/fuc/lib/python3.9/site-packages/pandas/core/series.py:1656\u001b[0m, in \u001b[0;36mSeries.to_markdown\u001b[0;34m(self, buf, mode, index, storage_options, **kwargs)\u001b[0m\n\u001b[1;32m   1583\u001b[0m \u001b[38;5;129m@doc\u001b[39m(\n\u001b[1;32m   1584\u001b[0m     klass\u001b[38;5;241m=\u001b[39m_shared_doc_kwargs[\u001b[38;5;124m\"\u001b[39m\u001b[38;5;124mklass\u001b[39m\u001b[38;5;124m\"\u001b[39m],\n\u001b[1;32m   1585\u001b[0m     storage_options\u001b[38;5;241m=\u001b[39m_shared_docs[\u001b[38;5;124m\"\u001b[39m\u001b[38;5;124mstorage_options\u001b[39m\u001b[38;5;124m\"\u001b[39m],\n\u001b[0;32m   (...)\u001b[0m\n\u001b[1;32m   1620\u001b[0m     \u001b[38;5;241m*\u001b[39m\u001b[38;5;241m*\u001b[39mkwargs,\n\u001b[1;32m   1621\u001b[0m ) \u001b[38;5;241m-\u001b[39m\u001b[38;5;241m>\u001b[39m \u001b[38;5;28mstr\u001b[39m \u001b[38;5;241m|\u001b[39m \u001b[38;5;28;01mNone\u001b[39;00m:\n\u001b[1;32m   1622\u001b[0m     \u001b[38;5;124;03m\"\"\"\u001b[39;00m\n\u001b[1;32m   1623\u001b[0m \u001b[38;5;124;03m    Print {klass} in Markdown-friendly format.\u001b[39;00m\n\u001b[1;32m   1624\u001b[0m \n\u001b[0;32m   (...)\u001b[0m\n\u001b[1;32m   1654\u001b[0m \u001b[38;5;124;03m    {examples}\u001b[39;00m\n\u001b[1;32m   1655\u001b[0m \u001b[38;5;124;03m    \"\"\"\u001b[39;00m\n\u001b[0;32m-> 1656\u001b[0m     \u001b[38;5;28;01mreturn\u001b[39;00m \u001b[38;5;28;43mself\u001b[39;49m\u001b[38;5;241;43m.\u001b[39;49m\u001b[43mto_frame\u001b[49m\u001b[43m(\u001b[49m\u001b[43m)\u001b[49m\u001b[38;5;241;43m.\u001b[39;49m\u001b[43mto_markdown\u001b[49m\u001b[43m(\u001b[49m\n\u001b[1;32m   1657\u001b[0m \u001b[43m        \u001b[49m\u001b[43mbuf\u001b[49m\u001b[43m,\u001b[49m\u001b[43m \u001b[49m\u001b[43mmode\u001b[49m\u001b[43m,\u001b[49m\u001b[43m \u001b[49m\u001b[43mindex\u001b[49m\u001b[43m,\u001b[49m\u001b[43m \u001b[49m\u001b[43mstorage_options\u001b[49m\u001b[38;5;241;43m=\u001b[39;49m\u001b[43mstorage_options\u001b[49m\u001b[43m,\u001b[49m\u001b[43m \u001b[49m\u001b[38;5;241;43m*\u001b[39;49m\u001b[38;5;241;43m*\u001b[39;49m\u001b[43mkwargs\u001b[49m\n\u001b[1;32m   1658\u001b[0m \u001b[43m    \u001b[49m\u001b[43m)\u001b[49m\n",
      "File \u001b[0;32m~/opt/anaconda3/envs/fuc/lib/python3.9/site-packages/pandas/core/frame.py:2729\u001b[0m, in \u001b[0;36mDataFrame.to_markdown\u001b[0;34m(self, buf, mode, index, storage_options, **kwargs)\u001b[0m\n\u001b[1;32m   2727\u001b[0m kwargs\u001b[38;5;241m.\u001b[39msetdefault(\u001b[38;5;124m\"\u001b[39m\u001b[38;5;124mshowindex\u001b[39m\u001b[38;5;124m\"\u001b[39m, index)\n\u001b[1;32m   2728\u001b[0m tabulate \u001b[38;5;241m=\u001b[39m import_optional_dependency(\u001b[38;5;124m\"\u001b[39m\u001b[38;5;124mtabulate\u001b[39m\u001b[38;5;124m\"\u001b[39m)\n\u001b[0;32m-> 2729\u001b[0m result \u001b[38;5;241m=\u001b[39m \u001b[43mtabulate\u001b[49m\u001b[38;5;241;43m.\u001b[39;49m\u001b[43mtabulate\u001b[49m\u001b[43m(\u001b[49m\u001b[38;5;28;43mself\u001b[39;49m\u001b[43m,\u001b[49m\u001b[43m \u001b[49m\u001b[38;5;241;43m*\u001b[39;49m\u001b[38;5;241;43m*\u001b[39;49m\u001b[43mkwargs\u001b[49m\u001b[43m)\u001b[49m\n\u001b[1;32m   2730\u001b[0m \u001b[38;5;28;01mif\u001b[39;00m buf \u001b[38;5;129;01mis\u001b[39;00m \u001b[38;5;28;01mNone\u001b[39;00m:\n\u001b[1;32m   2731\u001b[0m     \u001b[38;5;28;01mreturn\u001b[39;00m result\n",
      "File \u001b[0;32m~/opt/anaconda3/envs/fuc/lib/python3.9/site-packages/tabulate.py:1576\u001b[0m, in \u001b[0;36mtabulate\u001b[0;34m(tabular_data, headers, tablefmt, floatfmt, numalign, stralign, missingval, showindex, disable_numparse, colalign)\u001b[0m\n\u001b[1;32m   1574\u001b[0m cols \u001b[38;5;241m=\u001b[39m \u001b[38;5;28mlist\u001b[39m(izip_longest(\u001b[38;5;241m*\u001b[39mlist_of_lists))\n\u001b[1;32m   1575\u001b[0m numparses \u001b[38;5;241m=\u001b[39m _expand_numparse(disable_numparse, \u001b[38;5;28mlen\u001b[39m(cols))\n\u001b[0;32m-> 1576\u001b[0m coltypes \u001b[38;5;241m=\u001b[39m [_column_type(col, numparse\u001b[38;5;241m=\u001b[39mnp) \u001b[38;5;28;01mfor\u001b[39;00m col, np \u001b[38;5;129;01min\u001b[39;00m \u001b[38;5;28mzip\u001b[39m(cols, numparses)]\n\u001b[1;32m   1577\u001b[0m \u001b[38;5;28;01mif\u001b[39;00m \u001b[38;5;28misinstance\u001b[39m(floatfmt, basestring):  \u001b[38;5;66;03m# old version\u001b[39;00m\n\u001b[1;32m   1578\u001b[0m     float_formats \u001b[38;5;241m=\u001b[39m \u001b[38;5;28mlen\u001b[39m(cols) \u001b[38;5;241m*\u001b[39m [\n\u001b[1;32m   1579\u001b[0m         floatfmt\n\u001b[1;32m   1580\u001b[0m     ]  \u001b[38;5;66;03m# just duplicate the string to use in each column\u001b[39;00m\n",
      "File \u001b[0;32m~/opt/anaconda3/envs/fuc/lib/python3.9/site-packages/tabulate.py:1576\u001b[0m, in \u001b[0;36m<listcomp>\u001b[0;34m(.0)\u001b[0m\n\u001b[1;32m   1574\u001b[0m cols \u001b[38;5;241m=\u001b[39m \u001b[38;5;28mlist\u001b[39m(izip_longest(\u001b[38;5;241m*\u001b[39mlist_of_lists))\n\u001b[1;32m   1575\u001b[0m numparses \u001b[38;5;241m=\u001b[39m _expand_numparse(disable_numparse, \u001b[38;5;28mlen\u001b[39m(cols))\n\u001b[0;32m-> 1576\u001b[0m coltypes \u001b[38;5;241m=\u001b[39m [\u001b[43m_column_type\u001b[49m\u001b[43m(\u001b[49m\u001b[43mcol\u001b[49m\u001b[43m,\u001b[49m\u001b[43m \u001b[49m\u001b[43mnumparse\u001b[49m\u001b[38;5;241;43m=\u001b[39;49m\u001b[43mnp\u001b[49m\u001b[43m)\u001b[49m \u001b[38;5;28;01mfor\u001b[39;00m col, np \u001b[38;5;129;01min\u001b[39;00m \u001b[38;5;28mzip\u001b[39m(cols, numparses)]\n\u001b[1;32m   1577\u001b[0m \u001b[38;5;28;01mif\u001b[39;00m \u001b[38;5;28misinstance\u001b[39m(floatfmt, basestring):  \u001b[38;5;66;03m# old version\u001b[39;00m\n\u001b[1;32m   1578\u001b[0m     float_formats \u001b[38;5;241m=\u001b[39m \u001b[38;5;28mlen\u001b[39m(cols) \u001b[38;5;241m*\u001b[39m [\n\u001b[1;32m   1579\u001b[0m         floatfmt\n\u001b[1;32m   1580\u001b[0m     ]  \u001b[38;5;66;03m# just duplicate the string to use in each column\u001b[39;00m\n",
      "File \u001b[0;32m~/opt/anaconda3/envs/fuc/lib/python3.9/site-packages/tabulate.py:961\u001b[0m, in \u001b[0;36m_column_type\u001b[0;34m(strings, has_invisible, numparse)\u001b[0m\n\u001b[1;32m    939\u001b[0m \u001b[38;5;28;01mdef\u001b[39;00m \u001b[38;5;21m_column_type\u001b[39m(strings, has_invisible\u001b[38;5;241m=\u001b[39m\u001b[38;5;28;01mTrue\u001b[39;00m, numparse\u001b[38;5;241m=\u001b[39m\u001b[38;5;28;01mTrue\u001b[39;00m):\n\u001b[1;32m    940\u001b[0m     \u001b[38;5;124;03m\"\"\"The least generic type all column values are convertible to.\u001b[39;00m\n\u001b[1;32m    941\u001b[0m \n\u001b[1;32m    942\u001b[0m \u001b[38;5;124;03m    >>> _column_type([True, False]) is _bool_type\u001b[39;00m\n\u001b[0;32m   (...)\u001b[0m\n\u001b[1;32m    959\u001b[0m \n\u001b[1;32m    960\u001b[0m \u001b[38;5;124;03m    \"\"\"\u001b[39;00m\n\u001b[0;32m--> 961\u001b[0m     types \u001b[38;5;241m=\u001b[39m [_type(s, has_invisible, numparse) \u001b[38;5;28;01mfor\u001b[39;00m s \u001b[38;5;129;01min\u001b[39;00m strings]\n\u001b[1;32m    962\u001b[0m     \u001b[38;5;28;01mreturn\u001b[39;00m reduce(_more_generic, types, _bool_type)\n",
      "File \u001b[0;32m~/opt/anaconda3/envs/fuc/lib/python3.9/site-packages/tabulate.py:961\u001b[0m, in \u001b[0;36m<listcomp>\u001b[0;34m(.0)\u001b[0m\n\u001b[1;32m    939\u001b[0m \u001b[38;5;28;01mdef\u001b[39;00m \u001b[38;5;21m_column_type\u001b[39m(strings, has_invisible\u001b[38;5;241m=\u001b[39m\u001b[38;5;28;01mTrue\u001b[39;00m, numparse\u001b[38;5;241m=\u001b[39m\u001b[38;5;28;01mTrue\u001b[39;00m):\n\u001b[1;32m    940\u001b[0m     \u001b[38;5;124;03m\"\"\"The least generic type all column values are convertible to.\u001b[39;00m\n\u001b[1;32m    941\u001b[0m \n\u001b[1;32m    942\u001b[0m \u001b[38;5;124;03m    >>> _column_type([True, False]) is _bool_type\u001b[39;00m\n\u001b[0;32m   (...)\u001b[0m\n\u001b[1;32m    959\u001b[0m \n\u001b[1;32m    960\u001b[0m \u001b[38;5;124;03m    \"\"\"\u001b[39;00m\n\u001b[0;32m--> 961\u001b[0m     types \u001b[38;5;241m=\u001b[39m [\u001b[43m_type\u001b[49m\u001b[43m(\u001b[49m\u001b[43ms\u001b[49m\u001b[43m,\u001b[49m\u001b[43m \u001b[49m\u001b[43mhas_invisible\u001b[49m\u001b[43m,\u001b[49m\u001b[43m \u001b[49m\u001b[43mnumparse\u001b[49m\u001b[43m)\u001b[49m \u001b[38;5;28;01mfor\u001b[39;00m s \u001b[38;5;129;01min\u001b[39;00m strings]\n\u001b[1;32m    962\u001b[0m     \u001b[38;5;28;01mreturn\u001b[39;00m reduce(_more_generic, types, _bool_type)\n",
      "File \u001b[0;32m~/opt/anaconda3/envs/fuc/lib/python3.9/site-packages/tabulate.py:680\u001b[0m, in \u001b[0;36m_type\u001b[0;34m(string, has_invisible, numparse)\u001b[0m\n\u001b[1;32m    678\u001b[0m \u001b[38;5;28;01melif\u001b[39;00m _isint(string) \u001b[38;5;129;01mand\u001b[39;00m numparse:\n\u001b[1;32m    679\u001b[0m     \u001b[38;5;28;01mreturn\u001b[39;00m \u001b[38;5;28mint\u001b[39m\n\u001b[0;32m--> 680\u001b[0m \u001b[38;5;28;01melif\u001b[39;00m \u001b[43m_isint\u001b[49m\u001b[43m(\u001b[49m\u001b[43mstring\u001b[49m\u001b[43m,\u001b[49m\u001b[43m \u001b[49m\u001b[43m_long_type\u001b[49m\u001b[43m)\u001b[49m \u001b[38;5;129;01mand\u001b[39;00m numparse:\n\u001b[1;32m    681\u001b[0m     \u001b[38;5;28;01mreturn\u001b[39;00m \u001b[38;5;28mint\u001b[39m\n\u001b[1;32m    682\u001b[0m \u001b[38;5;28;01melif\u001b[39;00m _isnumber(string) \u001b[38;5;129;01mand\u001b[39;00m numparse:\n",
      "File \u001b[0;32m~/opt/anaconda3/envs/fuc/lib/python3.9/site-packages/tabulate.py:623\u001b[0m, in \u001b[0;36m_isint\u001b[0;34m(string, inttype)\u001b[0m\n\u001b[1;32m    619\u001b[0m         \u001b[38;5;28;01mreturn\u001b[39;00m string\u001b[38;5;241m.\u001b[39mlower() \u001b[38;5;129;01min\u001b[39;00m [\u001b[38;5;124m\"\u001b[39m\u001b[38;5;124minf\u001b[39m\u001b[38;5;124m\"\u001b[39m, \u001b[38;5;124m\"\u001b[39m\u001b[38;5;124m-inf\u001b[39m\u001b[38;5;124m\"\u001b[39m, \u001b[38;5;124m\"\u001b[39m\u001b[38;5;124mnan\u001b[39m\u001b[38;5;124m\"\u001b[39m]\n\u001b[1;32m    620\u001b[0m     \u001b[38;5;28;01mreturn\u001b[39;00m \u001b[38;5;28;01mTrue\u001b[39;00m\n\u001b[0;32m--> 623\u001b[0m \u001b[38;5;28;01mdef\u001b[39;00m \u001b[38;5;21m_isint\u001b[39m(string, inttype\u001b[38;5;241m=\u001b[39m\u001b[38;5;28mint\u001b[39m):\n\u001b[1;32m    624\u001b[0m     \u001b[38;5;124;03m\"\"\"\u001b[39;00m\n\u001b[1;32m    625\u001b[0m \u001b[38;5;124;03m    >>> _isint(\"123\")\u001b[39;00m\n\u001b[1;32m    626\u001b[0m \u001b[38;5;124;03m    True\u001b[39;00m\n\u001b[1;32m    627\u001b[0m \u001b[38;5;124;03m    >>> _isint(\"123.45\")\u001b[39;00m\n\u001b[1;32m    628\u001b[0m \u001b[38;5;124;03m    False\u001b[39;00m\n\u001b[1;32m    629\u001b[0m \u001b[38;5;124;03m    \"\"\"\u001b[39;00m\n\u001b[1;32m    630\u001b[0m     \u001b[38;5;28;01mreturn\u001b[39;00m (\n\u001b[1;32m    631\u001b[0m         \u001b[38;5;28mtype\u001b[39m(string) \u001b[38;5;129;01mis\u001b[39;00m inttype\n\u001b[1;32m    632\u001b[0m         \u001b[38;5;129;01mor\u001b[39;00m (\u001b[38;5;28misinstance\u001b[39m(string, _binary_type) \u001b[38;5;129;01mor\u001b[39;00m \u001b[38;5;28misinstance\u001b[39m(string, _text_type))\n\u001b[1;32m    633\u001b[0m         \u001b[38;5;129;01mand\u001b[39;00m _isconvertible(inttype, string)\n\u001b[1;32m    634\u001b[0m     )\n",
      "\u001b[0;31mKeyboardInterrupt\u001b[0m: "
     ]
    }
   ],
   "source": [
    "import pandas as pd\n",
    "from fuc import common\n",
    "\n",
    "sv_genes = common.convert_file2list('data/sv-genes.list')\n",
    "df = pd.read_csv('data/combined.csv')\n",
    "\n",
    "sv_df = df[df.Gene.isin(sv_genes)]\n",
    "sv_df = sv_df.pivot(index='Sample', columns='Gene', values='CNV')\n",
    "\n",
    "mappings = {x+1: f'0{x+1}' if x < 9 else str(x+1) for x in range(10)}\n",
    "batch_df = df[df.Gene == 'ABCB1'][['Sample', 'Batch']]\n",
    "batch_df.Batch = batch_df.Batch.replace(mappings)\n",
    "batch_dict = dict(zip(batch_df.Sample, batch_df.Batch))\n",
    "\n",
    "base = 'https://raw.githubusercontent.com/sbslee/1kgp-pgx-paper/main/plot'\n",
    "\n",
    "def one_sv(x, sample, batch):\n",
    "    sv, gene = x.split(',')\n",
    "    return f'[{sv}]({base}/{gene}/{batch}/{sample}_NYGC.png)'\n",
    "\n",
    "def one_row(r):\n",
    "    genes = r.index.to_series()\n",
    "    r = r.str.cat(genes, sep=',')\n",
    "    batch = batch_dict[r.name]\n",
    "    r = r.apply(one_sv, args=(r.name, batch))\n",
    "    return r\n",
    "    \n",
    "sv_df = sv_df.apply(one_row, axis=1)\n",
    "\n",
    "for gene in sv_genes:\n",
    "    with open(f'sv-tables/{gene}.md', 'w') as f:\n",
    "        f.write(sv_df[gene].to_markdown(tablefmt='github'))"
   ]
  },
  {
   "cell_type": "code",
   "execution_count": 2,
   "metadata": {},
   "outputs": [],
   "source": [
    "sv_df.to_csv('test.csv')"
   ]
  },
  {
   "cell_type": "code",
   "execution_count": 5,
   "metadata": {},
   "outputs": [],
   "source": [
    "sv_df['CYP2D6'].to_csv('test.csv')"
   ]
  },
  {
   "cell_type": "code",
   "execution_count": 7,
   "metadata": {},
   "outputs": [],
   "source": [
    "sv_df.to_html('test.html')"
   ]
  },
  {
   "cell_type": "code",
   "execution_count": 8,
   "metadata": {},
   "outputs": [],
   "source": [
    "with open('sv-table-CYP2D6.md', 'w') as f:\n",
    "    f.write(sv_df['CYP2D6'].to_markdown(tablefmt='github'))"
   ]
  },
  {
   "cell_type": "code",
   "execution_count": null,
   "metadata": {},
   "outputs": [],
   "source": []
  }
 ],
 "metadata": {
  "kernelspec": {
   "display_name": "Python 3",
   "language": "python",
   "name": "python3"
  },
  "language_info": {
   "codemirror_mode": {
    "name": "ipython",
    "version": 3
   },
   "file_extension": ".py",
   "mimetype": "text/x-python",
   "name": "python",
   "nbconvert_exporter": "python",
   "pygments_lexer": "ipython3",
   "version": "3.9.12"
  }
 },
 "nbformat": 4,
 "nbformat_minor": 4
}
