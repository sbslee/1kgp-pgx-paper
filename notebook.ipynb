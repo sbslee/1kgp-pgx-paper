{
 "cells": [
  {
   "cell_type": "code",
   "execution_count": null,
   "metadata": {},
   "outputs": [],
   "source": [
    "import pandas as pd\n",
    "from fuc import common"
   ]
  },
  {
   "cell_type": "code",
   "execution_count": null,
   "metadata": {},
   "outputs": [],
   "source": [
    "sv_genes = common.convert_file2list('data/sv-genes.list')\n",
    "df = pd.read_csv('data/combined.csv')\n",
    "\n",
    "sv_df = df[df.Gene.isin(sv_genes)]\n",
    "sv_df = sv_df.pivot(index='Sample', columns='Gene', values='CNV')\n",
    "\n",
    "mappings = {x+1: f'0{x+1}' if x < 9 else str(x+1) for x in range(10)}\n",
    "batch_df = df[df.Gene == 'ABCB1'][['Sample', 'Batch']]\n",
    "batch_df.Batch = batch_df.Batch.replace(mappings)\n",
    "batch_dict = dict(zip(batch_df.Sample, batch_df.Batch))"
   ]
  },
  {
   "cell_type": "code",
   "execution_count": null,
   "metadata": {},
   "outputs": [],
   "source": [
    "base = ''\n",
    "\n",
    "def one_sv(x, sample, batch):\n",
    "    sv, gene = x.split(',')\n",
    "    return f'[{sv}]({base}/{gene}/{batch}/{sample}_NYGC.png)'\n",
    "\n",
    "def one_row(r):\n",
    "    genes = r.index.to_series()\n",
    "    r = r.str.cat(genes, sep=',')\n",
    "    batch = batch_dict[r.name]\n",
    "    r = r.apply(one_sv, args=(r.name, batch))\n",
    "    return r\n",
    "    \n",
    "sv_df = sv_df.apply(one_row, axis=1)\n",
    "sv_df.to_csv('test.csv')"
   ]
  },
  {
   "cell_type": "code",
   "execution_count": null,
   "metadata": {},
   "outputs": [],
   "source": []
  },
  {
   "cell_type": "code",
   "execution_count": null,
   "metadata": {},
   "outputs": [],
   "source": [
    "df = pd.read_csv('sv-table.csv')\n",
    "with open('sv-table.md', 'w') as f:\n",
    "    f.write(df.to_markdown(tablefmt='github'))"
   ]
  }
 ],
 "metadata": {
  "kernelspec": {
   "display_name": "Python 3",
   "language": "python",
   "name": "python3"
  },
  "language_info": {
   "codemirror_mode": {
    "name": "ipython",
    "version": 3
   },
   "file_extension": ".py",
   "mimetype": "text/x-python",
   "name": "python",
   "nbconvert_exporter": "python",
   "pygments_lexer": "ipython3",
   "version": "3.9.12"
  }
 },
 "nbformat": 4,
 "nbformat_minor": 4
}
